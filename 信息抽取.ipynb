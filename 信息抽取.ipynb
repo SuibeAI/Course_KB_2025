{
 "cells": [
  {
   "cell_type": "code",
   "execution_count": 1,
   "id": "f8afb944-ff9b-4cf1-9e3b-eb68a06de373",
   "metadata": {
    "execution": {
     "iopub.execute_input": "2025-04-19T12:24:44.558852Z",
     "iopub.status.busy": "2025-04-19T12:24:44.558586Z",
     "iopub.status.idle": "2025-04-19T12:25:18.565863Z",
     "shell.execute_reply": "2025-04-19T12:25:18.565223Z",
     "shell.execute_reply.started": "2025-04-19T12:24:44.558835Z"
    },
    "tags": []
   },
   "outputs": [
    {
     "name": "stderr",
     "output_type": "stream",
     "text": [
      "2025-04-19 20:24:49,649 - modelscope - INFO - Use user-specified model revision: v1.0\n"
     ]
    },
    {
     "name": "stdout",
     "output_type": "stream",
     "text": [
      "Downloading Model from https://www.modelscope.cn to directory: /mnt/workspace/.cache/modelscope/models/iic/nlp_structbert_siamese-uie_chinese-base\n"
     ]
    },
    {
     "name": "stderr",
     "output_type": "stream",
     "text": [
      "2025-04-19 20:24:50,680 - modelscope - INFO - Use user-specified model revision: v1.0\n",
      "2025-04-19 20:24:51,048 - modelscope - INFO - initiate model from /mnt/workspace/.cache/modelscope/models/iic/nlp_structbert_siamese-uie_chinese-base\n",
      "2025-04-19 20:24:51,048 - modelscope - INFO - initiate model from location /mnt/workspace/.cache/modelscope/models/iic/nlp_structbert_siamese-uie_chinese-base.\n",
      "2025-04-19 20:24:51,053 - modelscope - INFO - initialize model from /mnt/workspace/.cache/modelscope/models/iic/nlp_structbert_siamese-uie_chinese-base\n",
      "2025-04-19 20:24:52,666 - modelscope - INFO - cuda is not available, using cpu instead.\n",
      "/usr/local/lib/python3.11/site-packages/torch/amp/autocast_mode.py:250: UserWarning: User provided device_type of 'cuda', but CUDA is not available. Disabling\n",
      "  warnings.warn(\n",
      "/usr/local/lib/python3.11/site-packages/transformers/modeling_utils.py:1044: FutureWarning: The `device` argument is deprecated and will be removed in v5 of Transformers.\n",
      "  warnings.warn(\n"
     ]
    },
    {
     "name": "stdout",
     "output_type": "stream",
     "text": [
      "{'output': [[{'type': '人物', 'span': '雷军', 'offset': [66, 68]}], [{'type': '地理位置', 'span': '北京市海淀区安宁庄路小米科技园', 'offset': [47, 62]}], [{'type': '地理位置', 'span': '中国', 'offset': [116, 118]}], [{'type': '组织机构', 'span': '小米科技有限责任公司', 'offset': [0, 10]}]]}\n"
     ]
    }
   ],
   "source": [
    "from modelscope.pipelines import pipeline\n",
    "from modelscope.utils.constant import Tasks\n",
    "\n",
    "semantic_cls = pipeline(Tasks.siamese_uie, 'iic/nlp_structbert_siamese-uie_chinese-base', model_revision='v1.0')\n",
    "\n",
    "# 命名实体识别 {实体类型: None}\n",
    "output = semantic_cls(\n",
    "    input='小米科技有限责任公司（Xiaomi Corporation）成立于2010年3月3日，总部位于北京市海淀区安宁庄路小米科技园，创始人雷军，是一家主要从事智能手机、物联网和生活消费产品研发和销售业务，提供互联网服务，以及从事投资业务的中国投资控股公司。', \n",
    "    schema={\n",
    "        '人物': None,\n",
    "        '地理位置': None,\n",
    "        '组织机构': None\n",
    "    }\n",
    ") \n",
    "\n",
    "print(output)\n"
   ]
  },
  {
   "cell_type": "code",
   "execution_count": 2,
   "id": "e0f9f595-23e3-40d9-8bde-a80e07873418",
   "metadata": {
    "ExecutionIndicator": {
     "show": false
    },
    "execution": {
     "iopub.execute_input": "2025-04-19T12:27:46.231663Z",
     "iopub.status.busy": "2025-04-19T12:27:46.231196Z",
     "iopub.status.idle": "2025-04-19T12:27:53.375180Z",
     "shell.execute_reply": "2025-04-19T12:27:53.374740Z",
     "shell.execute_reply.started": "2025-04-19T12:27:46.231643Z"
    },
    "tags": []
   },
   "outputs": [
    {
     "name": "stderr",
     "output_type": "stream",
     "text": [
      "2025-04-19 20:27:47,145 - modelscope - INFO - Use user-specified model revision: v1.0\n"
     ]
    },
    {
     "name": "stdout",
     "output_type": "stream",
     "text": [
      "Downloading Model from https://www.modelscope.cn to directory: /mnt/workspace/.cache/modelscope/models/iic/nlp_structbert_siamese-uie_chinese-base\n"
     ]
    },
    {
     "name": "stderr",
     "output_type": "stream",
     "text": [
      "2025-04-19 20:27:48,075 - modelscope - INFO - Use user-specified model revision: v1.0\n",
      "2025-04-19 20:27:48,508 - modelscope - INFO - initiate model from /mnt/workspace/.cache/modelscope/models/iic/nlp_structbert_siamese-uie_chinese-base\n",
      "2025-04-19 20:27:48,509 - modelscope - INFO - initiate model from location /mnt/workspace/.cache/modelscope/models/iic/nlp_structbert_siamese-uie_chinese-base.\n",
      "2025-04-19 20:27:48,514 - modelscope - INFO - initialize model from /mnt/workspace/.cache/modelscope/models/iic/nlp_structbert_siamese-uie_chinese-base\n",
      "2025-04-19 20:27:49,298 - modelscope - INFO - cuda is not available, using cpu instead.\n"
     ]
    },
    {
     "name": "stdout",
     "output_type": "stream",
     "text": [
      "{'output': [[{'type': '歌手', 'span': '周杰伦', 'offset': [6, 9]}, {'type': '歌曲', 'span': '七里香', 'offset': [1, 4]}], [{'type': '歌手', 'span': '周杰伦', 'offset': [6, 9]}, {'type': '歌曲', 'span': '将军', 'offset': [37, 39]}], [{'type': '歌手', 'span': '周杰伦', 'offset': [6, 9]}, {'type': '歌曲', 'span': '止战之殇', 'offset': [41, 45]}], [{'type': '歌手', 'span': '周杰伦', 'offset': [6, 9]}, {'type': '专辑', 'span': '七里香', 'offset': [1, 4]}]]}\n"
     ]
    }
   ],
   "source": [
    "# 关系抽取 {主语实体类型: {关系(宾语实体类型): None}}\n",
    "output = semantic_cls(\n",
    "  input='《七里香》是周杰伦的第五张音乐专辑，由周杰伦担任制作人，共收录《七里香》《将军》《止战之殇》等10首歌曲', \n",
    "    schema = {\n",
    "        '歌手': {\n",
    "            '歌曲': None,\n",
    "            '专辑': None,\n",
    "        }\n",
    "    }\n",
    ") \n",
    "\n",
    "print(output)"
   ]
  },
  {
   "cell_type": "code",
   "execution_count": 3,
   "id": "bc4138f4-22f1-4046-b3fc-9b7e340f4a52",
   "metadata": {
    "execution": {
     "iopub.execute_input": "2025-04-19T12:34:53.060412Z",
     "iopub.status.busy": "2025-04-19T12:34:53.060119Z",
     "iopub.status.idle": "2025-04-19T12:35:37.985590Z",
     "shell.execute_reply": "2025-04-19T12:35:37.984919Z",
     "shell.execute_reply.started": "2025-04-19T12:34:53.060396Z"
    }
   },
   "outputs": [
    {
     "name": "stdout",
     "output_type": "stream",
     "text": [
      "{'output': [[{'type': '胜负(事件触发词)', 'span': '负于', 'offset': [19, 21]}, {'type': '时间', 'span': '7月28日', 'offset': [0, 5]}], [{'type': '胜负(事件触发词)', 'span': '负于', 'offset': [19, 21]}, {'type': '败者', 'span': '天津泰达', 'offset': [6, 10]}], [{'type': '胜负(事件触发词)', 'span': '负于', 'offset': [19, 21]}, {'type': '胜者', 'span': '天津天海', 'offset': [21, 25]}]]}\n"
     ]
    }
   ],
   "source": [
    "# 事件抽取 {事件类型（事件触发词）: {参数类型: None}}\n",
    "output = semantic_cls(\n",
    "\tinput='7月28日，天津泰达在德比战中以0-1负于天津天海。', \n",
    "  \tschema={\n",
    "        '胜负(事件触发词)': {\n",
    "            '时间': None,\n",
    "            '败者': None,\n",
    "            '胜者': None,\n",
    "            '赛事名称': None\n",
    "        }\n",
    "    }\n",
    ") \n",
    "\n",
    "print(output)"
   ]
  },
  {
   "cell_type": "code",
   "execution_count": 4,
   "id": "de8469f0-a257-4196-9069-79580ba5f314",
   "metadata": {
    "ExecutionIndicator": {
     "show": false
    },
    "execution": {
     "iopub.execute_input": "2025-04-19T12:35:37.986701Z",
     "iopub.status.busy": "2025-04-19T12:35:37.986518Z",
     "iopub.status.idle": "2025-04-19T12:36:30.882032Z",
     "shell.execute_reply": "2025-04-19T12:36:30.881093Z",
     "shell.execute_reply.started": "2025-04-19T12:35:37.986683Z"
    },
    "tags": []
   },
   "outputs": [
    {
     "name": "stderr",
     "output_type": "stream",
     "text": [
      "2025-04-19 20:35:38,853 - modelscope - INFO - Use user-specified model revision: v1.0\n",
      "2025-04-19 20:35:39,686 - modelscope - INFO - Use user-specified model revision: v1.0\n"
     ]
    },
    {
     "name": "stdout",
     "output_type": "stream",
     "text": [
      "Downloading Model from https://www.modelscope.cn to directory: /mnt/workspace/.cache/modelscope/models/iic/nlp_structbert_siamese-uie_chinese-base\n"
     ]
    },
    {
     "name": "stderr",
     "output_type": "stream",
     "text": [
      "2025-04-19 20:35:39,952 - modelscope - INFO - initiate model from /mnt/workspace/.cache/modelscope/models/iic/nlp_structbert_siamese-uie_chinese-base\n",
      "2025-04-19 20:35:39,953 - modelscope - INFO - initiate model from location /mnt/workspace/.cache/modelscope/models/iic/nlp_structbert_siamese-uie_chinese-base.\n",
      "2025-04-19 20:35:39,957 - modelscope - INFO - initialize model from /mnt/workspace/.cache/modelscope/models/iic/nlp_structbert_siamese-uie_chinese-base\n",
      "2025-04-19 20:35:40,747 - modelscope - INFO - cuda is not available, using cpu instead.\n"
     ]
    },
    {
     "name": "stdout",
     "output_type": "stream",
     "text": [
      "{'output': [[{'type': '属性词', 'span': '音质', 'offset': [4, 6]}, {'type': '情感词', 'span': '很好', 'offset': [6, 8]}], [{'type': '属性词', 'span': '发货速度', 'offset': [9, 13]}, {'type': '情感词', 'span': '快', 'offset': [13, 14]}]]}\n"
     ]
    }
   ],
   "source": [
    "# 属性情感抽取 {属性词: {情感词: None}}\n",
    "output = semantic_cls(\n",
    "\tinput='很满意，音质很好，发货速度快，值得购买', \n",
    "  \tschema={\n",
    "        '属性词': {\n",
    "            '情感词': None,\n",
    "        }\n",
    "    }\n",
    ") \n",
    "\n",
    "print(output)\n",
    "\n"
   ]
  },
  {
   "cell_type": "code",
   "execution_count": 5,
   "id": "1785ce8f-e843-45e9-934a-15cd0aac3384",
   "metadata": {
    "execution": {
     "iopub.execute_input": "2025-04-19T12:38:14.262653Z",
     "iopub.status.busy": "2025-04-19T12:38:14.262346Z",
     "iopub.status.idle": "2025-04-19T12:39:07.474660Z",
     "shell.execute_reply": "2025-04-19T12:39:07.474143Z",
     "shell.execute_reply.started": "2025-04-19T12:38:14.262636Z"
    }
   },
   "outputs": [
    {
     "name": "stderr",
     "output_type": "stream",
     "text": [
      "2025-04-19 20:38:15,124 - modelscope - INFO - Use user-specified model revision: v1.0\n"
     ]
    },
    {
     "name": "stdout",
     "output_type": "stream",
     "text": [
      "Downloading Model from https://www.modelscope.cn to directory: /mnt/workspace/.cache/modelscope/models/iic/nlp_structbert_siamese-uie_chinese-base\n"
     ]
    },
    {
     "name": "stderr",
     "output_type": "stream",
     "text": [
      "2025-04-19 20:38:16,087 - modelscope - INFO - Use user-specified model revision: v1.0\n",
      "2025-04-19 20:38:16,403 - modelscope - INFO - initiate model from /mnt/workspace/.cache/modelscope/models/iic/nlp_structbert_siamese-uie_chinese-base\n",
      "2025-04-19 20:38:16,403 - modelscope - INFO - initiate model from location /mnt/workspace/.cache/modelscope/models/iic/nlp_structbert_siamese-uie_chinese-base.\n",
      "2025-04-19 20:38:16,408 - modelscope - INFO - initialize model from /mnt/workspace/.cache/modelscope/models/iic/nlp_structbert_siamese-uie_chinese-base\n",
      "2025-04-19 20:38:17,332 - modelscope - INFO - cuda is not available, using cpu instead.\n"
     ]
    },
    {
     "name": "stdout",
     "output_type": "stream",
     "text": [
      "{'output': [[{'type': '属性词', 'span': '音质', 'offset': [4, 6]}, {'type': '正向情感(情感词)', 'span': '很好', 'offset': [6, 8]}], [{'type': '属性词', 'span': '发货速度', 'offset': [9, 13]}, {'type': '正向情感(情感词)', 'span': '快', 'offset': [13, 14]}]]}\n"
     ]
    }
   ],
   "source": [
    "# 支持情感分类\n",
    "output = semantic_cls(\n",
    "\tinput='很满意，音质很好，发货速度快，值得购买', \n",
    "  \tschema={\n",
    "        '属性词': {\n",
    "            \"正向情感(情感词)\": None, \n",
    "            \"负向情感(情感词)\": None, \n",
    "            \"中性情感(情感词)\": None\n",
    "        }\n",
    "    }\n",
    ") \n",
    "\n",
    "print(output)\n",
    "\n"
   ]
  },
  {
   "cell_type": "code",
   "execution_count": null,
   "id": "7e4506ba-4dc2-4b94-a36f-267ddadc389f",
   "metadata": {},
   "outputs": [],
   "source": []
  }
 ],
 "metadata": {
  "kernelspec": {
   "display_name": "Python 3 (ipykernel)",
   "language": "python",
   "name": "python3"
  },
  "language_info": {
   "codemirror_mode": {
    "name": "ipython",
    "version": 3
   },
   "file_extension": ".py",
   "mimetype": "text/x-python",
   "name": "python",
   "nbconvert_exporter": "python",
   "pygments_lexer": "ipython3",
   "version": "3.11.11"
  }
 },
 "nbformat": 4,
 "nbformat_minor": 5
}
